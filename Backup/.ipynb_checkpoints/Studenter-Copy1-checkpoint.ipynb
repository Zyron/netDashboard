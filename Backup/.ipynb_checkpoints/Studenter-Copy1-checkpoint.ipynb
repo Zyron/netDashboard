{
 "cells": [
  {
   "cell_type": "code",
   "execution_count": 1,
   "metadata": {},
   "outputs": [
    {
     "data": {
      "text/plain": [
       "{'member_1': {'studentid': 1,\n",
       "  'l_name': 'Grieg',\n",
       "  'f_name': 'Kjartan',\n",
       "  'dob': '11-04-1997',\n",
       "  'tlf': 1234567,\n",
       "  'mail': 'griegs_garage@gman.com'},\n",
       " 'member_2': {'studentid': 2,\n",
       "  'l_name': 'Hansen',\n",
       "  'f_name': 'Geir',\n",
       "  'dob': '14-02-2001',\n",
       "  'tlf': 41749932,\n",
       "  'mail': 'geirhansen01@gmail.com'}}"
      ]
     },
     "execution_count": 1,
     "metadata": {},
     "output_type": "execute_result"
    }
   ],
   "source": [
    "studentinfo = {\n",
    "    'member_1': {\n",
    "    'studentid' : 1, \n",
    "    'l_name' : 'Grieg',\n",
    "    'f_name' : 'Kjartan',\n",
    "    'dob' : '11-04-1997',\n",
    "    'tlf' : 1234567,\n",
    "    'mail' : 'griegs_garage@gman.com'\n",
    "    },\n",
    "    'member_2': {\n",
    "    'studentid' : 2,\n",
    "    'l_name' : 'Hansen',\n",
    "    'f_name' : 'Geir',\n",
    "    'dob' : '14-02-2001',\n",
    "    'tlf' : 41749932,\n",
    "    'mail' : 'geirhansen01@gmail.com'}\n",
    "}\n",
    "studentinfo"
   ]
  },
  {
   "cell_type": "code",
   "execution_count": 2,
   "metadata": {},
   "outputs": [
    {
     "name": "stdout",
     "output_type": "stream",
     "text": [
      "{\n",
      "    \"member_1\": {\n",
      "        \"studentid\": 1,\n",
      "        \"l_name\": \"Grieg\",\n",
      "        \"f_name\": \"Kjartan\",\n",
      "        \"dob\": \"11-04-1997\",\n",
      "        \"tlf\": 1234567,\n",
      "        \"mail\": \"griegs_garage@gman.com\"\n",
      "    },\n",
      "    \"member_2\": {\n",
      "        \"studentid\": 2,\n",
      "        \"l_name\": \"Hansen\",\n",
      "        \"f_name\": \"Geir\",\n",
      "        \"dob\": \"14-02-2001\",\n",
      "        \"tlf\": 41749932,\n",
      "        \"mail\": \"geirhansen01@gmail.com\"\n",
      "    }\n",
      "}\n"
     ]
    }
   ],
   "source": [
    "import json\n",
    "studenter_json = json.dumps(studentinfo, indent = 4)\n",
    "print(studenter_json)"
   ]
  },
  {
   "cell_type": "code",
   "execution_count": 3,
   "metadata": {},
   "outputs": [
    {
     "name": "stdout",
     "output_type": "stream",
     "text": [
      "complete\n"
     ]
    }
   ],
   "source": [
    "import json\n",
    "with open (\"studenter.json\", \"w\") as outfile:\n",
    "    json.dump(studentinfo, outfile)\n",
    "print('complete')    "
   ]
  }
 ],
 "metadata": {
  "kernelspec": {
   "display_name": "Python 3",
   "language": "python",
   "name": "python3"
  },
  "language_info": {
   "codemirror_mode": {
    "name": "ipython",
    "version": 3
   },
   "file_extension": ".py",
   "mimetype": "text/x-python",
   "name": "python",
   "nbconvert_exporter": "python",
   "pygments_lexer": "ipython3",
   "version": "3.8.3"
  }
 },
 "nbformat": 4,
 "nbformat_minor": 4
}
