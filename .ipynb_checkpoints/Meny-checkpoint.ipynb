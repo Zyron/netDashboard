{
 "cells": [
  {
   "cell_type": "code",
   "execution_count": 1,
   "metadata": {
    "scrolled": true
   },
   "outputs": [
    {
     "name": "stdout",
     "output_type": "stream",
     "text": [
      "{'student_id': [1, 2, 3, 4, 5], 'week_id': [1, 2, 3, 4, 5, 6, 7, 8, 9, 10, 11, 12, 13, 14, 15, 16, 17, 18, 19, 20, 21, 22, 23, 24, 25, 26, 27, 28, 29, 30, 31, 32, 33, 34, 35, 36, 37, 38, 39, 40, 41, 42, 43, 44, 45, 46, 47, 48, 49, 50, 51, 52], 'hours': [[2, 0, 3, 7], [1, 2, 4], [4, 4, 3, 4], [1, 0, 2], [0.5, 1, 2]]}\n",
      "\n",
      "Hva er din student id? (heltall) 5\n",
      "Hei, medlem 5 !\n",
      "logge timer? (j/n)n\n",
      "På tide å få klokket inn noen timer. Ikke glem møtet på torsdag!\n",
      "se loggførte timer? (j/n) j\n",
      "[0.5, 1, 2]\n"
     ]
    },
    {
     "data": {
      "text/plain": [
       "\"\\nverdi = input('se framtidig verdi? (j/n) ')\\nif (verdi == 'j'):\\n    print('print verdi av loggførte timer om 3 år, 5 år, 10 år, 25 år, 50 år og 67 år')\\n\""
      ]
     },
     "execution_count": 1,
     "metadata": {},
     "output_type": "execute_result"
    }
   ],
   "source": [
    "import json #tekstbehandlingsbibliotek\n",
    "from datetime import datetime #dato- og tidsbibliotek\n",
    "\n",
    "with open('arbeid.json') as json_file: \n",
    "        data = json.load(json_file)\n",
    "        print(data) #skriver ut medlemsdatabasen i json-format\n",
    "print()\n",
    "\n",
    "def membercheck2(mid): #funksjon som leter etter innastet medlemstall\n",
    "    for egenskap, verdi in data.items():\n",
    "        if (egenskap == 'student_id'):\n",
    "            for element in verdi:\n",
    "                if (element == mid):\n",
    "                    return True\n",
    "                \n",
    "def logge_timer(medlemid, timer): #funksjon som legger inn antall timer arbeidet for nåværende uke\n",
    "    now = datetime.now() #laster inn nåværende tidspunkt\n",
    "    current_week = now.strftime(\"%W\") #ekstraherer ut nåværende uke\n",
    "    #print(current_time)\n",
    "    data[\"hours\"][data[\"student_id\"].index(int(medlemid))].append(int(timer)) #ser på raden hours og kan kun velge\n",
    "    #kolonnenumre som  finnes i kolonneverdiene til raden student_id, dvs. 1,2,3,4,5,... Legger så til antall timer\n",
    "    # jobbet på denne indeksen\n",
    "    \n",
    "        \n",
    "    if data['edu level'][data[\"student_id\"].index(int(medlemid))] == 1: #sjekker om noen av kolonneverdiene i raden\n",
    "        #'edu level' inneholder verdien 1\n",
    "        wage = data['wage rates'][0] # setter lønnsnivå til 160,1 NOK/time dersom studentens lønnsnivå\n",
    "        #er lagret som lønnsnivå 1 i dictionaryen\n",
    "        \n",
    "    elif data['edu level'][data[\"student_id\"].index(int(medlemid))] == 2:\n",
    "        wage = data['wage rates'][1]\n",
    "    \n",
    "    else:\n",
    "        wage = data['wage rates'][2]\n",
    "    \n",
    "    \n",
    "    #ganger inn antall timer loggført denne uka med tilhørende lønnsnivå for studenten = total ukelønn \n",
    "    #og lagrer dette i dictionaryen\n",
    "    data[\"values\"][data[\"student_id\"].index(int(medlemid))].append(int(timer) #finner riktig posisjon å sette inn verdien\n",
    "    *data['wage rates'][data['edu level'][data['student_id'].index(int(medlemid))]-1])\n",
    "    #ganger inn riktig lønnsnivå ved å finne riktig element i listen 'wage rates' og indeksere på medlemsid\n",
    "    #må trekke fra 1 fordi medlemsid er 1-indeksert\n",
    "    \n",
    "    data[\"timestamps\"][data[\"student_id\"].index(int(medlemid))].append(current_week) #legger til uketall for logget time\n",
    "    \n",
    "\n",
    "medlemid = int(input('Hva er din student id? (heltall) '))\n",
    "\n",
    "if (membercheck2(medlemid) == True):\n",
    "    print('Hei, medlem', medlemid, '!')\n",
    "else:\n",
    "    print('finner ikke idnummer')\n",
    "    \n",
    "logge = input('logge timer? (j/n)')\n",
    "if (logge =='j'):\n",
    "    ant_timer = int(input('Hvor mange timer har du jobbet denne uka (int)? '))\n",
    "    logge_timer(medlemid, ant_timer)\n",
    "    print('Timene er lagt til. Ha en fin dag videre og ikke glem å ta en pause i blant!')\n",
    "else:\n",
    "    print('På tide å få klokket inn noen timer. Ikke glem møtet på torsdag!')\n",
    "#print(medlemid)\n",
    "#print(membercheck2(int(medlemid)))\n",
    "            \n",
    "oversikt = input('se loggførte timer? (j/n) ')\n",
    "if (oversikt == 'j'):\n",
    "    print(data['hours'][data['student_id'].index(int(medlemid))])\n",
    "\n",
    "else:\n",
    "    print('Kom gjerne tilbake og se dine verdier vokse ved et senere tidspunkt.')\n",
    "\n",
    "'''\n",
    "verdi = input('se framtidig verdi? (j/n) ')\n",
    "if (verdi == 'j'):\n",
    "    print('print verdi av loggførte timer om 3 år, 5 år, 10 år, 25 år, 50 år og 67 år')\n",
    "'''\n",
    "#print(data)"
   ]
  }
 ],
 "metadata": {
  "kernelspec": {
   "display_name": "Python 3",
   "language": "python",
   "name": "python3"
  },
  "language_info": {
   "codemirror_mode": {
    "name": "ipython",
    "version": 3
   },
   "file_extension": ".py",
   "mimetype": "text/x-python",
   "name": "python",
   "nbconvert_exporter": "python",
   "pygments_lexer": "ipython3",
   "version": "3.8.3"
  }
 },
 "nbformat": 4,
 "nbformat_minor": 4
}
