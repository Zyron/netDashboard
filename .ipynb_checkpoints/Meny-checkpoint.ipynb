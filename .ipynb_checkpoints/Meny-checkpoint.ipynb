{
 "cells": [
  {
   "cell_type": "code",
   "execution_count": 2,
   "metadata": {
    "scrolled": true
   },
   "outputs": [
    {
     "name": "stdout",
     "output_type": "stream",
     "text": [
      "{'student_id': [1, 2, 3, 4, 5], 'week_id': [1, 2, 3, 4, 5, 6, 7, 8, 9, 10, 11, 12, 13, 14, 15, 16, 17, 18, 19, 20, 21, 22, 23, 24, 25, 26, 27, 28, 29, 30, 31, 32, 33, 34, 35, 36, 37, 38, 39, 40, 41, 42, 43, 44, 45, 46, 47, 48, 49, 50, 51, 52], 'hours': [[2, 0, 3, 7, 2], [1, 2, 4, 69, 2], [4, 4, 4, 4], [1, 0, 2], [0.5, 1, 2, 5]]}\n",
      "\n",
      "Hei, medlem 3 !\n",
      "[[2, 0, 3, 7, 2], [1, 2, 4, 69, 2], [4, 4, 4, 4], [1, 0, 2], [0.5, 1, 2, 5]]\n",
      "0\n",
      "1\n",
      "2\n",
      "3\n",
      "4\n",
      "MEDLEMID 3\n",
      "index 2\n",
      "[4, 4, 4, 4]\n",
      "{'student_id': [1, 2, 3, 4, 5], 'week_id': [1, 2, 3, 4, 5, 6, 7, 8, 9, 10, 11, 12, 13, 14, 15, 16, 17, 18, 19, 20, 21, 22, 23, 24, 25, 26, 27, 28, 29, 30, 31, 32, 33, 34, 35, 36, 37, 38, 39, 40, 41, 42, 43, 44, 45, 46, 47, 48, 49, 50, 51, 52], 'hours': [[2, 0, 3, 7, 2], [1, 2, 4, 69, 2], [4, 4, 4, 4, 3], [1, 0, 2], [0.5, 1, 2, 5]]}\n"
     ]
    }
   ],
   "source": [
    "import json\n",
    "\n",
    "with open('arbeid.json') as json_file:\n",
    "        data = json.load(json_file)\n",
    "        print(data)\n",
    "print()\n",
    "\n",
    "\n",
    "def membercheck(mid):\n",
    "    suksess = False\n",
    "    for k, v in data.items():\n",
    "        if (k == 'student_id'):\n",
    "            for el in v:\n",
    "                if (el == mid):\n",
    "                    suksess = True\n",
    "                    print('Hei, medlem', el, '!')\n",
    "                    return el\n",
    "            if (not suksess):\n",
    "                print('finner ikke idnummer')\n",
    "                return False\n",
    "\n",
    "def membercheck2(mid):\n",
    "    for k, v in data.items():\n",
    "        if (k == 'student_id'):\n",
    "            for el in v:\n",
    "                if (el == mid):\n",
    "                    return True\n",
    "\n",
    "medlemidint = 1\n",
    "try:\n",
    "    medlemid = input('Hva er din student id? (int) ')\n",
    "    medlemidint = int(medlemid)\n",
    "except:\n",
    "    print('Not working')\n",
    "\n",
    "#print(medlemid)\n",
    "#print(membercheck2(int(medlemid)))\n",
    "\n",
    "if (membercheck2(medlemidint) == True):\n",
    "    print('Hei, medlem', medlemid, '!')\n",
    "else:\n",
    "    print('finner ikke idnummer!')\n",
    "                \n",
    "\n",
    "logg = input('logge timer? (j/n) ')\n",
    "if (logg == 'j'):\n",
    "    timer = input(\"hvor mange timer har du jobbet siste uken? (int) \")\n",
    "    print(data[\"hours\"])\n",
    "    for x in range(len(data[\"hours\"])):\n",
    "        print(x)\n",
    "    print(\"MEDLEMID\",int(medlemid))\n",
    "    print(\"index\",data[\"student_id\"].index(int(medlemid))) #finner hvilken indeks den innskrevne verdien av \"student_id\" tilhører\n",
    "    print(data[\"hours\"][data[\"student_id\"].index(int(medlemid))]) #finner den verdien av indeksen spesifisert ovenfor \n",
    "                                                                  #som korresponderer til den spesifiserte studenten ovenfor\n",
    "    data[\"hours\"][data[\"student_id\"].index(int(medlemid))].append(int(timer))\n",
    "    \n",
    "    with open(\"Arbeid.json\", \"w\") as outfile:\n",
    "        json.dump(data, outfile)\n",
    "\n",
    "print(data)\n",
    "\n",
    "\n",
    "\n",
    "\n",
    "'''\n",
    "oversikt = input('se loggførte timer? (j/n) ')\n",
    "if (oversikt == 'j'):\n",
    "    #print('print ut verdier for aktuell student')\n",
    "    print(data[\"hours\"][data[\"student_id\"].index(int(medlemid))])\n",
    "\n",
    "\n",
    "verdi = input('se framtidig verdi? (j/n) ')\n",
    "if (verdi == 'j'):\n",
    "    print('print verdi av loggførte timer om 3 år, 5 år, 10 år, 25 år, 50 år og 67 år')\n",
    "''';"
   ]
  },
  {
   "cell_type": "code",
   "execution_count": 2,
   "metadata": {},
   "outputs": [
    {
     "name": "stdout",
     "output_type": "stream",
     "text": [
      "lars er flink med python\n",
      "0\n",
      "lars er flink med python\n",
      "alt er mulig med kode\n"
     ]
    }
   ],
   "source": [
    "def func(id):\n",
    "    svar = 2\n",
    "    if (0 == id):\n",
    "        print(\"lars er flink med python\")\n",
    "        svar = 1\n",
    "        return int(id)\n",
    "    return svar\n",
    "\n",
    "mid = 0\n",
    "print(func(mid))\n",
    "\n",
    "\n",
    "if(func(mid)):\n",
    "    print(\"lars er kick-ass ninja på koding\")\n",
    "else:\n",
    "    print(\"alt er mulig med kode\")"
   ]
  },
  {
   "cell_type": "code",
   "execution_count": 3,
   "metadata": {},
   "outputs": [
    {
     "name": "stdout",
     "output_type": "stream",
     "text": [
      "\n",
      "test\n",
      "test2\n",
      "\n"
     ]
    }
   ],
   "source": [
    "print('''\n",
    "oversikt over fødselsdato\n",
    "oversikt over hvilken uke/år timene blir logget\n",
    "''')"
   ]
  }
 ],
 "metadata": {
  "kernelspec": {
   "display_name": "Python 3",
   "language": "python",
   "name": "python3"
  },
  "language_info": {
   "codemirror_mode": {
    "name": "ipython",
    "version": 3
   },
   "file_extension": ".py",
   "mimetype": "text/x-python",
   "name": "python",
   "nbconvert_exporter": "python",
   "pygments_lexer": "ipython3",
   "version": "3.8.3"
  }
 },
 "nbformat": 4,
 "nbformat_minor": 4
}
