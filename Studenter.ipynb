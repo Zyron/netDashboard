{
 "cells": [
  {
   "cell_type": "code",
   "execution_count": 1,
   "metadata": {},
   "outputs": [
    {
     "output_type": "execute_result",
     "data": {
      "text/plain": [
       "{'member_1': {'studentid': 1,\n",
       "  'l_name': 'Mittet',\n",
       "  'f_name': 'Aleksander',\n",
       "  'dob': '02.03.1999',\n",
       "  'tlf': 91992177,\n",
       "  'mail': 'aleksandermittet@gmail.com'},\n",
       " 'member_2': {'studentid': 2,\n",
       "  'l_name': 'Hansen',\n",
       "  'f_name': 'Geir',\n",
       "  'dob': '14.02.2001',\n",
       "  'tlf': 41749932,\n",
       "  'mail': 'geirhansen01@gmail.com'}}"
      ]
     },
     "metadata": {},
     "execution_count": 1
    }
   ],
   "source": [
    "studentinfo = {\n",
    "    'member_1': {\n",
    "    'studentid' : 1, \n",
    "    'l_name' : 'Mittet',\n",
    "    'f_name' : 'Aleksander',\n",
    "    'dob' : '02.03.1999',\n",
    "    'tlf' : 91992177,\n",
    "    'mail' : 'aleksander.mittet@gmail.com'\n",
    "    },\n",
    "    'member_2': {\n",
    "    'studentid' : 2,\n",
    "    'l_name' : 'Hansen',\n",
    "    'f_name' : 'Geir',\n",
    "    'dob' : '14.02.2001',\n",
    "    'tlf' : 41749932,\n",
    "    'mail' : 'geirhansen01@gmail.com'}\n",
    "}\n",
    "studentinfo"
   ]
  },
  {
   "cell_type": "code",
   "execution_count": 2,
   "metadata": {},
   "outputs": [
    {
     "output_type": "stream",
     "name": "stdout",
     "text": [
      "{\n    \"member_1\": {\n        \"studentid\": 1,\n        \"l_name\": \"Mittet\",\n        \"f_name\": \"Aleksander\",\n        \"dob\": \"02.03.1999\",\n        \"tlf\": 91992177,\n        \"mail\": \"aleksandermittet@gmail.com\"\n    },\n    \"member_2\": {\n        \"studentid\": 2,\n        \"l_name\": \"Hansen\",\n        \"f_name\": \"Geir\",\n        \"dob\": \"14.02.2001\",\n        \"tlf\": 41749932,\n        \"mail\": \"geirhansen01@gmail.com\"\n    }\n}\n"
     ]
    }
   ],
   "source": [
    "import json\n",
    "studenter_json = json.dumps(studentinfo, indent = 4)\n",
    "print(studenter_json)"
   ]
  },
  {
   "cell_type": "code",
   "execution_count": 5,
   "metadata": {},
   "outputs": [
    {
     "output_type": "stream",
     "name": "stdout",
     "text": [
      "complete\n"
     ]
    }
   ],
   "source": [
    "import json\n",
    "with open (\"studenter.json\", \"w\") as outfile:\n",
    "    json.dump(studentinfo, outfile)\n",
    "print('complete')    "
   ]
  }
 ],
 "metadata": {
  "kernelspec": {
   "display_name": "Python 3",
   "language": "python",
   "name": "python3"
  },
  "language_info": {
   "codemirror_mode": {
    "name": "ipython",
    "version": 3
   },
   "file_extension": ".py",
   "mimetype": "text/x-python",
   "name": "python",
   "nbconvert_exporter": "python",
   "pygments_lexer": "ipython3",
   "version": "3.8.5-final"
  }
 },
 "nbformat": 4,
 "nbformat_minor": 4
}
